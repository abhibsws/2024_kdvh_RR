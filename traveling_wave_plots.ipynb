{
 "cells": [
  {
   "cell_type": "markdown",
   "id": "7d6981f0",
   "metadata": {},
   "source": [
    "The code in this notebook produces the figures that show traveling waves and the phase plane."
   ]
  },
  {
   "cell_type": "code",
   "execution_count": null,
   "id": "2d97b42b-a407-4046-be7f-ff29a212c57b",
   "metadata": {},
   "outputs": [],
   "source": [
    "import numpy as np\n",
    "import matplotlib.pyplot as plt\n",
    "import scipy.integrate\n",
    "import matplotlib\n",
    "font = {'size'   : 15}\n",
    "matplotlib.rc('font', **font)"
   ]
  },
  {
   "cell_type": "code",
   "execution_count": null,
   "id": "5553333e",
   "metadata": {},
   "outputs": [],
   "source": [
    "def plot_traveling_wave(c, tau, u0, xmax, v0=0.001, alpha=0, umax=3., lw=2, plot_gradients=False, plot_sqrtsech=False, plot_vw=True):\n",
    "    fig, axes = plt.subplots(1, 2, figsize=(6, 4), sharey=True)\n",
    "\n",
    "    u = np.linspace(-2, umax, 500)\n",
    "    v = np.linspace(-2, 2., 501)\n",
    "    \n",
    "    V, U = np.meshgrid(v, u)\n",
    "    du = (1/(tau*c*(U-c)+1))*V\n",
    "    dv = (U*(c-U/2))/(1+tau*c)\n",
    "    \n",
    "    stream = axes[0].streamplot(V, U, dv, du, broken_streamlines=False, density=0.4, color='k')\n",
    "    axes[0].set_xlabel('v')\n",
    "    axes[0].set_ylabel('u')\n",
    "    axes[0].plot([0, 0], [c+np.sqrt(c**2+2*alpha), c-np.sqrt(c**2+2*alpha)], 'ok')\n",
    "    \n",
    "    def rhs(t, w):\n",
    "        u, v = w\n",
    "        return np.array([(1/(tau*c*(u-c)+1))*v, (u*(c-u/2))/(1+tau*c)])\n",
    "    \n",
    "    w0 = np.array([u0, 0.00001])\n",
    "    t_eval = np.linspace(0, xmax, 1000)\n",
    "    forwardsoln = scipy.integrate.solve_ivp(rhs, [0, xmax], w0, t_eval=t_eval, atol=1.e-12, rtol=1.e-12)\n",
    "    u = forwardsoln.y[0, :]\n",
    "    x = forwardsoln.t\n",
    "    v = forwardsoln.y[1, :]\n",
    "    w = u * (c - u / 2)\n",
    "    axes[0].plot(v, u[:], '-b', lw=lw)\n",
    "\n",
    "    if plot_sqrtsech:\n",
    "        offset = plot_sqrtsech\n",
    "        x = x - offset\n",
    "\n",
    "    axes[1].plot(x, u, '-b', lw=lw, label=r\"$u$\")\n",
    "    axes[1].set_xlim(0, xmax)\n",
    "    axes[1].set_xlabel(r\"$\\xi$\")\n",
    "\n",
    "    if plot_vw:\n",
    "        axes[1].plot(x, v, '-r', lw=1, label=r\"$v$\")\n",
    "        axes[1].plot(x, w, '-g', lw=1, label=r\"$w$\")\n",
    "\n",
    "    if plot_gradients:\n",
    "        axes[1].plot(x, (1+c*tau)*np.gradient(v, x), '--r', lw=1)\n",
    "        axes[1].plot(x, np.gradient(u, x)-c*tau*np.gradient(w, x), '--g', lw=1)\n",
    "\n",
    "    if plot_sqrtsech:\n",
    "        axes[1].plot(x, (5/3)/np.cosh((5/3)*x)**0.5-1, \"--k\", lw=2, label=r\"$\\sqrt{1/\\cosh}$\")\n",
    "        axes[1].set_xlim(-offset, xmax-offset)\n",
    "\n",
    "    axes[0].set_xticks([-2, -1, 0, 1])\n",
    "    axes[1].legend()\n",
    "\n",
    "    plt.subplots_adjust(wspace=0, hspace=0)\n",
    "\n",
    "    return fig\n",
    "\n",
    "fig = plot_traveling_wave(1.0, 2./5, 0.00001, 30.)\n",
    "plt.savefig(\"normal_solitary_wave.pdf\", bbox_inches='tight')\n",
    "plt.subplots_adjust(wspace=0)"
   ]
  },
  {
   "cell_type": "code",
   "execution_count": null,
   "id": "5d8c5808",
   "metadata": {},
   "outputs": [],
   "source": [
    "fig = plot_traveling_wave(c=2.,tau=1.,u0=0.8,xmax=26.432063331,umax=4.5)\n",
    "plt.savefig(\"parasitic_traveling_wave_1.pdf\",bbox_inches='tight')"
   ]
  },
  {
   "cell_type": "code",
   "execution_count": null,
   "id": "b20f73da",
   "metadata": {},
   "outputs": [],
   "source": [
    "fig = plot_traveling_wave(c=2.,tau=1.,u0=1.49,xmax=26.432063331,umax=4.5)\n",
    "plt.savefig(\"parasitic_traveling_wave_2.pdf\",bbox_inches='tight')"
   ]
  },
  {
   "cell_type": "code",
   "execution_count": null,
   "id": "c1faeed3",
   "metadata": {},
   "outputs": [],
   "source": [
    "fig = plot_traveling_wave(c=-0.5,tau=1.,u0=-0.9999,xmax=24.5,umax=2.0,plot_sqrtsech=12.085,plot_vw=False)\n",
    "plt.savefig(\"sqrtsech_wave.pdf\",bbox_inches='tight')"
   ]
  },
  {
   "cell_type": "code",
   "execution_count": null,
   "id": "ef2ab48a",
   "metadata": {},
   "outputs": [],
   "source": [
    "fig = plot_traveling_wave(c=-0.5,tau=1.,u0=0.6,xmax=14.5,umax=2.)\n",
    "plt.savefig(\"parasitic_traveling_wave_3.pdf\",bbox_inches='tight')"
   ]
  },
  {
   "cell_type": "code",
   "execution_count": null,
   "id": "2cad8bb5",
   "metadata": {},
   "outputs": [],
   "source": []
  }
 ],
 "metadata": {
  "kernelspec": {
   "display_name": "Python 3",
   "language": "python",
   "name": "python3"
  },
  "language_info": {
   "codemirror_mode": {
    "name": "ipython",
    "version": 3
   },
   "file_extension": ".py",
   "mimetype": "text/x-python",
   "name": "python",
   "nbconvert_exporter": "python",
   "pygments_lexer": "ipython3",
   "version": "3.13.0"
  }
 },
 "nbformat": 4,
 "nbformat_minor": 5
}
